{
 "metadata": {
  "anaconda-cloud": {},
  "celltoolbar": "Slideshow",
  "kernelspec": {
   "display_name": "Python [default]",
   "language": "python",
   "name": "python2"
  },
  "language_info": {
   "codemirror_mode": {
    "name": "ipython",
    "version": 2
   },
   "file_extension": ".py",
   "mimetype": "text/x-python",
   "name": "python",
   "nbconvert_exporter": "python",
   "pygments_lexer": "ipython2",
   "version": "2.7.12"
  },
  "name": "",
  "nbpresent": {
   "slides": {
    "b21b9d68-82e4-4acb-9730-a6328ff0be38": {
     "id": "b21b9d68-82e4-4acb-9730-a6328ff0be38",
     "prev": null,
     "regions": {}
    }
   },
   "themes": {}
  },
  "signature": "sha256:f3b46f7809bb32c28960e98640864b42f57c2c4a2af95555a9c9836b61719a01",
  "widgets": {
   "state": {
    "7b2d84900ace43d99c38f03d705548e2": {
     "views": [
      {
       "cell_index": 1
      }
     ]
    }
   },
   "version": "1.2.0"
  }
 },
 "nbformat": 3,
 "nbformat_minor": 0,
 "worksheets": [
  {
   "cells": [
    {
     "cell_type": "markdown",
     "metadata": {
      "nbpresent": {
       "id": "ec27b8a1-6acd-4e9b-84e6-299f24e14923"
      },
      "slideshow": {
       "slide_type": "slide"
      }
     },
     "source": [
      "# Illustrasjon av hovedspenninger i plan spenningstilstand\n",
      "\n",
      "Spenningene $\\sigma_x$, $\\sigma_y$ og $\\tau_{xy}$ p\u00e5 et element i plan spenningstilstand er i koordinatsystemet x'y' som har en vinkel $\\theta$ med koordinatsystemet xy gitt av ligningene:\n",
      "\n",
      "$$\\sigma_{x'} = \\sigma_x\\cos\\theta^2+\\sigma_y\\sin\\theta^2+2\\tau_{xy}\\cos\\theta\\sin\\theta$$\n",
      "$$\\sigma_{y'} = \\sigma_x\\cos(\\theta+\\pi/2)^2+\\sigma_y\\sin(\\theta+\\pi/2)^2+2\\tau_{xy}\\cos(\\theta+\\pi/2)\\sin(\\theta+\\pi/2)$$ \n",
      "$$\\tau_{x'y'} = (\\sigma_y-\\sigma_x)\\cos\\theta\\sin\\theta+\\tau_{xy}(\\cos\\theta^2-\\sin\\theta^2)$$\n",
      "\n"
     ]
    },
    {
     "cell_type": "code",
     "collapsed": false,
     "input": [
      "print(2+21)\n"
     ],
     "language": "python",
     "metadata": {
      "nbpresent": {
       "id": "da2790e9-76d2-463c-b405-485fea70ea31"
      },
      "slideshow": {
       "slide_type": "slide"
      }
     },
     "outputs": [
      {
       "output_type": "stream",
       "stream": "stdout",
       "text": [
        "4\n"
       ]
      }
     ],
     "prompt_number": 1
    },
    {
     "cell_type": "code",
     "collapsed": true,
     "input": [],
     "language": "python",
     "metadata": {},
     "outputs": [],
     "prompt_number": null
    }
   ],
   "metadata": {}
  }
 ]
}